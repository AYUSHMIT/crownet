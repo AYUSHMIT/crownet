{
 "cells": [
  {
   "cell_type": "code",
   "execution_count": null,
   "metadata": {},
   "outputs": [],
   "source": [
    "import pandas as pd\n",
    "import numpy as np\n",
    "import matplotlib.pyplot as plt\n",
    "from pandas import IndexSlice as I\n",
    "import os\n",
    "\n",
    "import roveranalyzer.simulators.opp as O\n",
    "import roveranalyzer.simulators.crownet.dcd as Dmap\n",
    "from roveranalyzer.simulators.crownet.dcd.util import remove_not_selected_cells\n",
    "from roveranalyzer.simulators.opp.provider.hdf.DcdMapProvider import DcdMapProvider\n",
    "\n",
    "# run = \"mucStationaryTest_centerEnb_20211110-14:21:38\"\n",
    "run = \"mucStationaryTest_lowerEnb_20211110-16:38:08\"\n",
    "sim = \"mucFreiheitLte\"\n",
    "data_root = f\"{os.environ['HOME']}/repos/crownet/crownet/simulations/{sim}/results/{run}\"\n",
    "hdf_file = \"data.h5\"\n",
    "\n",
    "b = Dmap.DcdHdfBuilder.get(hdf_file, data_root)\n",
    "\n",
    "sql = O.CrownetSql(\n",
    "    vec_path=f\"{data_root}/vars_rep_0.vec\", \n",
    "    sca_path=f\"{data_root}/vars_rep_0.sca\", \n",
    "    network=\"World\")"
   ]
  },
  {
   "cell_type": "code",
   "execution_count": null,
   "metadata": {},
   "outputs": [],
   "source": [
    "# rebuild HDF file \n",
    "if os.path.exists(os.path.join(data_root, hdf_file)):\n",
    "    os.remove(os.path.join(data_root, hdf_file))\n",
    "dcd_data = b.build()"
   ]
  },
  {
   "cell_type": "code",
   "execution_count": null,
   "metadata": {},
   "outputs": [],
   "source": [
    "# create builder\n",
    "dcd_data = b.build()\n",
    "b."
   ]
  },
  {
   "cell_type": "markdown",
   "metadata": {},
   "source": [
    "# Packet source distribution\n"
   ]
  },
  {
   "cell_type": "code",
   "execution_count": null,
   "metadata": {},
   "outputs": [],
   "source": [
    "df = O.packet_source_distribution(sql, app=\"app[1].app\", normalize=True)"
   ]
  },
  {
   "cell_type": "code",
   "execution_count": null,
   "metadata": {},
   "outputs": [],
   "source": [
    "_df = df.iloc[0:10]\n",
    "ax : plt.Axes = _df.plot.barh(stacked=True, width = 0.5)\n",
    "ax.set_title(\"Packets received from\")\n",
    "ax.set_xlabel(\"percentage\")\n",
    "ax.legend(loc='center left', bbox_to_anchor=(1, 0.5))"
   ]
  }
 ],
 "metadata": {
  "interpreter": {
   "hash": "6fde14e266581c961cfc68831b92b1dd55bda63b933110030987c5bf587656b9"
  },
  "kernelspec": {
   "display_name": "Python 3.8.10 64-bit ('analysis_dev': venv)",
   "name": "python3"
  },
  "language_info": {
   "codemirror_mode": {
    "name": "ipython",
    "version": 3
   },
   "file_extension": ".py",
   "mimetype": "text/x-python",
   "name": "python",
   "nbconvert_exporter": "python",
   "pygments_lexer": "ipython3",
   "version": "3.8.10"
  }
 },
 "nbformat": 4,
 "nbformat_minor": 2
}
