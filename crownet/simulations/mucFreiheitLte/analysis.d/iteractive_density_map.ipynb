{
 "cells": [
  {
   "cell_type": "code",
   "execution_count": null,
   "metadata": {},
   "outputs": [],
   "source": [
    "import pandas as pd\n",
    "import numpy as np\n",
    "import matplotlib.pyplot as plt\n",
    "import os\n",
    "from typing import Tuple\n",
    "import contextily  as ctx\n",
    "\n",
    "from roveranalyzer.utils import Project\n",
    "import contextily as ctx\n",
    "from roveranalyzer.analysis import OppAnalysis, DensityMap\n",
    "import roveranalyzer.simulators.crownet.dcd as Dmap\n",
    "import roveranalyzer.simulators.opp as OMNeT\n",
    "\n",
    "def run_data(run, sim, hdf_file=\"data.h5\") -> Tuple[Dmap.DcdHdfBuilder, OMNeT.CrownetSql]:\n",
    "    data_root = f\"{os.environ['HOME']}/repos/crownet/crownet/simulations/{sim}/results/{run}\"\n",
    "    builder = Dmap.DcdHdfBuilder.get(hdf_file, data_root).epsg(Project.UTM_32N)\n",
    "    \n",
    "    sql = OMNeT.CrownetSql(\n",
    "            vec_path=f\"{data_root}/vars_rep_0.vec\", \n",
    "            sca_path=f\"{data_root}/vars_rep_0.sca\", \n",
    "        network=\"World\")\n",
    "    return builder, sql\n"
   ]
  },
  {
   "cell_type": "code",
   "execution_count": null,
   "metadata": {},
   "outputs": [],
   "source": [
    "\n",
    "b1, sql1 = run_data(\"mucStationaryTest_lowerEnb_20211119-13:51:16\", \"mucFreiheitLte\")\n",
    "\n",
    "p1 = b1.build(override_hdf=False)"
   ]
  },
  {
   "cell_type": "markdown",
   "metadata": {},
   "source": [
    "# Global View \n",
    "\n",
    "Show interactive density map of the global (ground truth) for a given time."
   ]
  },
  {
   "cell_type": "code",
   "execution_count": null,
   "metadata": {},
   "outputs": [],
   "source": [
    "\n",
    "# postion collected from OMNeT \n",
    "host_position = sql1.host_position(epsg_code=Project.UTM_32N, time_slice=slice(0, 0))\n",
    "host_position = host_position.to_crs(epsg=Project.OpenStreetMaps.replace(\"EPSG:\", \"\"))\n",
    "\n",
    "\n",
    "_i = pd.IndexSlice\n",
    "# map data\n",
    "cells = DensityMap.get_annotated_global_map(\n",
    "    global_map = p1.global_p, \n",
    "    position = p1.position_p, \n",
    "    crs = Project.OpenStreetMaps, \n",
    "    slice_ = _i[1.0]\n",
    ")\n",
    "base_map = DensityMap.get_interactive(cells, host_position)\n",
    "base_map\n"
   ]
  },
  {
   "cell_type": "markdown",
   "metadata": {},
   "source": [
    "# Node View \n",
    "\n",
    "Show interactive density map from point of view from a single node. "
   ]
  },
  {
   "cell_type": "code",
   "execution_count": null,
   "metadata": {},
   "outputs": [],
   "source": [
    "# todo\n",
    "\n",
    "# select node and time \n",
    "\n",
    "# extract position of 'seen' nodes from the neighborhood\n",
    "\n",
    "# get map data from selected node"
   ]
  }
 ],
 "metadata": {
  "interpreter": {
   "hash": "6fde14e266581c961cfc68831b92b1dd55bda63b933110030987c5bf587656b9"
  },
  "kernelspec": {
   "display_name": "Python 3.8.10 64-bit ('analysis_dev': venv)",
   "name": "python3"
  },
  "language_info": {
   "codemirror_mode": {
    "name": "ipython",
    "version": 3
   },
   "file_extension": ".py",
   "mimetype": "text/x-python",
   "name": "python",
   "nbconvert_exporter": "python",
   "pygments_lexer": "ipython3",
   "version": "3.8.10"
  }
 },
 "nbformat": 4,
 "nbformat_minor": 2
}
